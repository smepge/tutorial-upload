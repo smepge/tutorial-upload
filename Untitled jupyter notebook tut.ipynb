{
 "cells": [
  {
   "cell_type": "markdown",
   "id": "deca2ea9-b659-41c5-a2f1-a3503b1da93f",
   "metadata": {},
   "source": [
    "# Header 1\n",
    "a simple toy jupyter notebook to see how github uploading works\n"
   ]
  },
  {
   "cell_type": "code",
   "execution_count": 3,
   "id": "3b160660",
   "metadata": {},
   "outputs": [
    {
     "data": {
      "application/vnd.microsoft.datawrangler.viewer.v0+json": {
       "columns": [
        {
         "name": "index",
         "rawType": "int64",
         "type": "integer"
        },
        {
         "name": "ID",
         "rawType": "object",
         "type": "string"
        },
        {
         "name": "Age",
         "rawType": "int32",
         "type": "integer"
        },
        {
         "name": "Income",
         "rawType": "int32",
         "type": "integer"
        },
        {
         "name": "Score",
         "rawType": "int32",
         "type": "integer"
        }
       ],
       "conversionMethod": "pd.DataFrame",
       "ref": "a1b01f03-71ac-4fa3-8e7e-f9195c838904",
       "rows": [
        [
         "0",
         "3UZ9",
         "56",
         "53483",
         "80"
        ],
        [
         "1",
         "V4XL",
         "46",
         "78555",
         "7"
        ],
        [
         "2",
         "G407",
         "32",
         "47159",
         "34"
        ],
        [
         "3",
         "21I7",
         "60",
         "110077",
         "34"
        ],
        [
         "4",
         "AHYD",
         "25",
         "65920",
         "32"
        ]
       ],
       "shape": {
        "columns": 4,
        "rows": 5
       }
      },
      "text/html": [
       "<div>\n",
       "<style scoped>\n",
       "    .dataframe tbody tr th:only-of-type {\n",
       "        vertical-align: middle;\n",
       "    }\n",
       "\n",
       "    .dataframe tbody tr th {\n",
       "        vertical-align: top;\n",
       "    }\n",
       "\n",
       "    .dataframe thead th {\n",
       "        text-align: right;\n",
       "    }\n",
       "</style>\n",
       "<table border=\"1\" class=\"dataframe\">\n",
       "  <thead>\n",
       "    <tr style=\"text-align: right;\">\n",
       "      <th></th>\n",
       "      <th>ID</th>\n",
       "      <th>Age</th>\n",
       "      <th>Income</th>\n",
       "      <th>Score</th>\n",
       "    </tr>\n",
       "  </thead>\n",
       "  <tbody>\n",
       "    <tr>\n",
       "      <th>0</th>\n",
       "      <td>3UZ9</td>\n",
       "      <td>56</td>\n",
       "      <td>53483</td>\n",
       "      <td>80</td>\n",
       "    </tr>\n",
       "    <tr>\n",
       "      <th>1</th>\n",
       "      <td>V4XL</td>\n",
       "      <td>46</td>\n",
       "      <td>78555</td>\n",
       "      <td>7</td>\n",
       "    </tr>\n",
       "    <tr>\n",
       "      <th>2</th>\n",
       "      <td>G407</td>\n",
       "      <td>32</td>\n",
       "      <td>47159</td>\n",
       "      <td>34</td>\n",
       "    </tr>\n",
       "    <tr>\n",
       "      <th>3</th>\n",
       "      <td>21I7</td>\n",
       "      <td>60</td>\n",
       "      <td>110077</td>\n",
       "      <td>34</td>\n",
       "    </tr>\n",
       "    <tr>\n",
       "      <th>4</th>\n",
       "      <td>AHYD</td>\n",
       "      <td>25</td>\n",
       "      <td>65920</td>\n",
       "      <td>32</td>\n",
       "    </tr>\n",
       "  </tbody>\n",
       "</table>\n",
       "</div>"
      ],
      "text/plain": [
       "     ID  Age  Income  Score\n",
       "0  3UZ9   56   53483     80\n",
       "1  V4XL   46   78555      7\n",
       "2  G407   32   47159     34\n",
       "3  21I7   60  110077     34\n",
       "4  AHYD   25   65920     32"
      ]
     },
     "execution_count": 3,
     "metadata": {},
     "output_type": "execute_result"
    }
   ],
   "source": [
    "import pandas as pd\n",
    "import numpy as np\n",
    "import random\n",
    "import string\n",
    "\n",
    "# Set random seed for reproducibility\n",
    "np.random.seed(42)\n",
    "\n",
    "# Number of rows\n",
    "n = 50\n",
    "\n",
    "# Generate random IDs (4 characters)\n",
    "def random_id():\n",
    "    return ''.join(random.choices(string.ascii_uppercase + string.digits, k=4))\n",
    "\n",
    "ids = [random_id() for _ in range(n)]\n",
    "\n",
    "# Generate random characteristics\n",
    "ages = np.random.randint(18, 65, size=n)\n",
    "incomes = np.random.randint(30000, 120000, size=n)\n",
    "scores = np.random.randint(0, 100, size=n)\n",
    "\n",
    "# Create dataframe\n",
    "df = pd.DataFrame({\n",
    "    'ID': ids,\n",
    "    'Age': ages,\n",
    "    'Income': incomes,\n",
    "    'Score': scores\n",
    "})\n",
    "\n",
    "df.head()"
   ]
  },
  {
   "cell_type": "markdown",
   "id": "65945d6d",
   "metadata": {},
   "source": [
    "Generating a plot:"
   ]
  },
  {
   "cell_type": "code",
   "execution_count": 5,
   "id": "21eb0dcd-83db-476f-a09b-b72552a96340",
   "metadata": {},
   "outputs": [
    {
     "data": {
      "image/png": "[encoded data removed]",
      "text/plain": [
       "<Figure size 640x480 with 1 Axes>"
      ]
     },
     "metadata": {},
     "output_type": "display_data"
    }
   ],
   "source": [
    "import matplotlib.pyplot as plt\n",
    "\n",
    "plt.scatter(df['Income'], df['Score'])\n",
    "plt.xlabel('Income')\n",
    "plt.ylabel('Score')\n",
    "plt.title('Score vs Income')\n",
    "plt.show()"
   ]
  },
  {
   "cell_type": "code",
   "execution_count": null,
   "id": "0ab17c84-a1fd-4d77-bb9e-be798b8c4db1",
   "metadata": {},
   "outputs": [],
   "source": []
  },
  {
   "cell_type": "code",
   "execution_count": null,
   "id": "b2241b2d-1e17-4cba-96d5-6f6e4202124a",
   "metadata": {},
   "outputs": [],
   "source": []
  },
  {
   "cell_type": "markdown",
   "id": "d580c0b4",
   "metadata": {},
   "source": [
    "test"
   ]
  }
 ],
 "metadata": {
  "kernelspec": {
   "display_name": "Python 3",
   "language": "python",
   "name": "python3"
  },
  "language_info": {
   "codemirror_mode": {
    "name": "ipython",
    "version": 3
   },
   "file_extension": ".py",
   "mimetype": "text/x-python",
   "name": "python",
   "nbconvert_exporter": "python",
   "pygments_lexer": "ipython3",
   "version": "3.13.3"
  }
 },
 "nbformat": 4,
 "nbformat_minor": 5
}
